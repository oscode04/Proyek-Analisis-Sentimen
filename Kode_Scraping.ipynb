{
  "nbformat": 4,
  "nbformat_minor": 0,
  "metadata": {
    "colab": {
      "provenance": []
    },
    "kernelspec": {
      "name": "python3",
      "display_name": "Python 3"
    },
    "language_info": {
      "name": "python"
    }
  },
  "cells": [
    {
      "cell_type": "code",
      "execution_count": null,
      "metadata": {
        "id": "BPHLMYh-jok6"
      },
      "outputs": [],
      "source": [
        "import instaloader\n",
        "import csv\n",
        "import pandas as pd\n",
        "\n",
        "# Membuat instance dari Instaloader\n",
        "loader = instaloader.Instaloader()\n",
        "\n",
        "# Username dan password untuk login ke instagram\n",
        "# Bisa diganti dengan username instagram sendiri, karena untuk login ke instagram sendiri memerlukan verifikasi lagi\n",
        "username = 'dumy0909'\n",
        "password = 'Dumy123'\n",
        "\n",
        "# Login ke Instagram\n",
        "try:\n",
        "    loader.login(username, password)\n",
        "except Exception as e:\n",
        "    print(\"Gagal Untuk login ke Instagram:\", e)\n",
        "\n",
        "# Id dari postingan instagram yang akan di scraping\n",
        "post_id = ['C9FZUJ8SMhe', 'C83NQrPy3bM', 'C9oBMlNykIj', 'C9nFrjHS9Rs', 'C9kSE0hBTcH', 'C9hgT1-Svop', 'C6Gor3iSGHO', 'C9q3tG8zSlS']\n",
        "\n",
        "# Mengambil postingan dengan shortcode\n",
        "post = instaloader.Post.from_shortcode(loader.context, post_id[7]) # id disesuaikan dengan isi dari array post_id\n",
        "\n",
        "# Mengambil kolom komentar\n",
        "comments = post.get_comments()\n",
        "\n",
        "# Inisialisasi dataset\n",
        "comment_texts = []\n",
        "\n",
        "for comment in comments:\n",
        "  # menambahkan isi komentar ke dataset\n",
        "  comment_texts.append(comment.text)\n",
        "\n",
        "csv_filename = 'instagram_comments.csv'\n",
        "# Menyimpan dataset dalam format csv\n",
        "with open(csv_filename, 'w', newline='', encoding='utf-8') as file:\n",
        "    writer = csv.writer(file)\n",
        "    writer.writerow(['Comment'])\n",
        "    for text in comment_texts:\n",
        "        writer.writerow([text])\n",
        "\n",
        "print(f\"Hasil Scraping komentar telah berhasil di simpan pada file '{csv_filename}'\")\n"
      ]
    },
    {
      "cell_type": "code",
      "source": [
        "# Mengubah data csv menjadi dataframe agar dapat diolah lebih lanjut\n",
        "\n",
        "# Membaca file CSV\n",
        "comments_df = pd.read_csv('instagram_comments.csv')\n",
        "\n",
        "# Menampilkan DataFrame\n",
        "comments_df.info()"
      ],
      "metadata": {
        "id": "L0IPe1z3jv7U"
      },
      "execution_count": null,
      "outputs": []
    }
  ]
}